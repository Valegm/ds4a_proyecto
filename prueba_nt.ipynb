{
 "cells": [
  {
   "cell_type": "code",
   "execution_count": null,
   "metadata": {},
   "outputs": [],
   "source": [
    "rl2022 = pd.read_csv('laudos_clear.csv')\n",
    "rl2022 =rl2022.drop(['Unnamed: 0'], axis=1)\n",
    "rl2022.head()"
   ]
  },
  {
   "cell_type": "code",
   "execution_count": null,
   "id": "322286d0",
   "metadata": {},
   "outputs": [],
   "source": [
    "fallo = rl2022.groupby('sentido_lau').count().reset_index()['sentido_lau']\n",
    "count = rl2022.groupby('sentido_lau').count().reset_index()['hechos']\n",
    "fig = px.bar(x=fallo, y=count, barmode='group',height=400)\n",
    "fig.update_layout(title_text=\"sentido del Laudo\")\n",
    "fig.show()\n",
    "img_bytes = fig.to_image(format=\"png\")\n",
    "plt.figure(figsize=(80,45))\n",
    "plt.imshow(img_bytes) # mostrar imagen\n",
    "plt.axis('off') # No mostrar el eje\n",
    "plt.show()"
   ]
  }
 ],
 "metadata": {
  "language_info": {
   "name": "python"
  }
 },
 "nbformat": 4,
 "nbformat_minor": 5
}
