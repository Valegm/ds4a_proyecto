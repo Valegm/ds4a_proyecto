{
 "cells": [
  {
   "cell_type": "code",
   "execution_count": null,
   "metadata": {},
   "outputs": [],
   "source": [
    "rl2022 = pd.read_csv('laudos_clear.csv')\n",
    "rl2022 =rl2022.drop(['Unnamed: 0'], axis=1)\n",
    "rl2022.head()"
   ]
  }
 ],
 "metadata": {
  "language_info": {
   "name": "python"
  }
 },
 "nbformat": 4,
 "nbformat_minor": 5
}
