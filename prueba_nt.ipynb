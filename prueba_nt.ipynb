{
 "cells": [
  {
   "cell_type": "code",
   "execution_count": null,
   "metadata": {},
   "outputs": [],
   "source": [
    "rl2022 = pd.read_csv('laudos_clear.csv')\n",
    "rl2022 =rl2022.drop(['Unnamed: 0'], axis=1)\n",
    "rl2022.head()"
   ]
  },
  {
   "cell_type": "code",
   "execution_count": 1,
   "metadata": {},
   "outputs": [
    {
     "name": "stdout",
     "output_type": "stream",
     "text": [
      "0\n",
      "1\n",
      "2\n",
      "3\n",
      "4\n",
      "5\n",
      "6\n",
      "7\n",
      "8\n",
      "9\n",
      "10\n"
     ]
    }
   ],
   "source": [
    "for i in range(0,11):\n",
    "    print(i)"
   ]
  },
  {
   "cell_type": "code",
   "execution_count": null,
   "metadata": {},
   "outputs": [],
   "source": []
   "execution_count": null,
   "id": "322286d0",
   "metadata": {},
   "outputs": [],
   "source": [
    "fallo = rl2022.groupby('sentido_lau').count().reset_index()['sentido_lau']\n",
    "count = rl2022.groupby('sentido_lau').count().reset_index()['hechos']\n",
    "fig = px.bar(x=fallo, y=count, barmode='group',height=400)\n",
    "fig.update_layout(title_text=\"sentido del Laudo\")\n",
    "fig.show()\n",
    "img_bytes = fig.to_image(format=\"png\")\n",
    "plt.figure(figsize=(80,45))\n",
    "plt.imshow(img_bytes) # mostrar imagen\n",
    "plt.axis('off') # No mostrar el eje\n",
    "plt.show()"
   ]
main
  }
 ],
 "metadata": {
  "kernelspec": {
   "display_name": "Python 3",
   "language": "python",
   "name": "python3"
  },
  "language_info": {
   "codemirror_mode": {
    "name": "ipython",
    "version": 3
   },
   "file_extension": ".py",
   "mimetype": "text/x-python",
   "name": "python",
   "nbconvert_exporter": "python",
   "pygments_lexer": "ipython3",
   "version": "3.8.5"
  }
 },
 "nbformat": 4,
 "nbformat_minor": 5
}
